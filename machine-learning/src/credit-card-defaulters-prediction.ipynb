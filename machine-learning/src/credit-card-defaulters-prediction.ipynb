{
  "cells": [
    {
      "cell_type": "markdown",
      "metadata": {
        "id": "6eJcM-_GawfU"
      },
      "source": [
        "# Introduction\n",
        "\n",
        "Problem: Every bank experiences losses due to credit card defaults. I would like to present a data science solution: creaing a model to predict who will default. If we have a good idea of who will default, we can do something to try to prevent it (forebearance, consulting, etc.).\n",
        "\n",
        "Objective: Predict whether or not a credit card client will default on their credit card\n",
        "Audience: Lending Executives"
      ]
    },
    {
      "cell_type": "markdown",
      "metadata": {
        "id": "61le3dntawfY"
      },
      "source": [
        "# Target\n",
        "\n",
        "Default payment (Yes=1, No=0)"
      ]
    },
    {
      "cell_type": "markdown",
      "metadata": {
        "id": "BwGtbuWEawfZ"
      },
      "source": [
        "# Features\n",
        "\n",
        "limit_bal: Amount of the given credit (NT dollar): it includes both the individual consumer credit and his/her family (supplementary) credit\n",
        "\n",
        "sex: Gender (1 = male; 2 = female)\n",
        "\n",
        "Education (1 = graduate school; 2 = university; 3 = high school; 4 = others)\n",
        "\n",
        "Marital status (1 = married; 2 = single; 3 = others)\n",
        "\n",
        "Age (year)\n",
        "\n",
        "History of past payment. (UCI) tracked the past monthly payment records (from April to September, 2005) as follows: The measurement scale for the repayment status is: -1 = pay duly; 1 = payment delay for one month; 2 = payment delay for two months; . . .; 8 = payment delay for eight months; 9 = payment delay for nine months and above\n",
        "\n",
        "Amount of bill statement (NT dollar) from April to September, 2005\n",
        "\n",
        "Amount of previous payment (NT dollar) from April to September 2005"
      ]
    },
    {
      "cell_type": "markdown",
      "metadata": {
        "id": "eJdq6Qbrawfa"
      },
      "source": [
        "# Import Libraries"
      ]
    },
    {
      "cell_type": "code",
      "execution_count": null,
      "metadata": {
        "scrolled": true,
        "colab": {
          "base_uri": "https://localhost:8080/"
        },
        "id": "ateJAzEbawfa",
        "outputId": "728a6931-7021-46d1-cfd4-b7bad8c2f44e"
      },
      "outputs": [
        {
          "output_type": "stream",
          "name": "stderr",
          "text": [
            "/usr/local/lib/python3.7/dist-packages/psycopg2/__init__.py:144: UserWarning: The psycopg2 wheel package will be renamed from release 2.8; in order to keep installing from binary please use \"pip install psycopg2-binary\" instead. For details see: <http://initd.org/psycopg/docs/install.html#binary-install-from-pypi>.\n",
            "  \"\"\")\n"
          ]
        }
      ],
      "source": [
        "# For data manipulation\n",
        "import pandas as pd\n",
        "import numpy as np\n",
        "import psycopg2 as pg\n",
        "import pickle\n",
        "\n",
        "# Data visualization\n",
        "import seaborn as sns\n",
        "import matplotlib.pyplot as plt\n",
        "%matplotlib inline\n",
        "# %config InlineBackend.figure_formats = ['svg']\n",
        "# sns.set(style='white', palette = 'Paired')\n",
        "\n",
        "# Modeling\n",
        "from sklearn.inspection import permutation_importance\n",
        "from sklearn import linear_model, svm, naive_bayes, neighbors, ensemble\n",
        "from sklearn.model_selection import KFold, train_test_split, GridSearchCV, RandomizedSearchCV\n",
        "from sklearn.neighbors import KNeighborsClassifier\n",
        "from sklearn import metrics\n",
        "from sklearn.preprocessing import StandardScaler, OneHotEncoder\n",
        "from sklearn.linear_model import LogisticRegression\n",
        "from sklearn.ensemble import RandomForestClassifier\n",
        "from sklearn.svm import SVC\n",
        "from sklearn.metrics import classification_report, plot_confusion_matrix, confusion_matrix,\\\n",
        "roc_auc_score, roc_curve, precision_recall_curve, fbeta_score, recall_score,\\\n",
        "precision_recall_fscore_support\n",
        "\n",
        "from sklearn.tree import DecisionTreeClassifier, DecisionTreeRegressor\n",
        "from sklearn.ensemble import (RandomForestClassifier, ExtraTreesClassifier, VotingClassifier, \n",
        "                              AdaBoostClassifier, BaggingRegressor)\n",
        "from sklearn.metrics import accuracy_score, make_scorer, log_loss\n",
        "\n",
        "from imblearn.under_sampling import RandomUnderSampler\n",
        "from imblearn.over_sampling import RandomOverSampler\n",
        "from collections import Counter\n",
        "from mlxtend.plotting import plot_decision_regions\n",
        "\n",
        "import xgboost as xgb"
      ]
    },
    {
      "cell_type": "markdown",
      "metadata": {
        "id": "mxSaF9tDawfd"
      },
      "source": [
        "# Import Customer's Data"
      ]
    },
    {
      "cell_type": "code",
      "execution_count": null,
      "metadata": {
        "colab": {
          "base_uri": "https://localhost:8080/",
          "height": 270
        },
        "id": "QW5IEcQXawfh",
        "outputId": "fd9f3b87-fdc8-43ec-97e5-fce1f544aa27"
      },
      "outputs": [
        {
          "output_type": "execute_result",
          "data": {
            "text/html": [
              "\n",
              "  <div id=\"df-87819577-2b72-458a-b130-68ac6071bf67\">\n",
              "    <div class=\"colab-df-container\">\n",
              "      <div>\n",
              "<style scoped>\n",
              "    .dataframe tbody tr th:only-of-type {\n",
              "        vertical-align: middle;\n",
              "    }\n",
              "\n",
              "    .dataframe tbody tr th {\n",
              "        vertical-align: top;\n",
              "    }\n",
              "\n",
              "    .dataframe thead th {\n",
              "        text-align: right;\n",
              "    }\n",
              "</style>\n",
              "<table border=\"1\" class=\"dataframe\">\n",
              "  <thead>\n",
              "    <tr style=\"text-align: right;\">\n",
              "      <th></th>\n",
              "      <th>id</th>\n",
              "      <th>limit_bal</th>\n",
              "      <th>sex</th>\n",
              "      <th>education</th>\n",
              "      <th>marriage</th>\n",
              "      <th>age</th>\n",
              "      <th>pay_0</th>\n",
              "      <th>pay_2</th>\n",
              "      <th>pay_3</th>\n",
              "      <th>pay_4</th>\n",
              "      <th>pay_5</th>\n",
              "      <th>pay_6</th>\n",
              "      <th>bill_amt1</th>\n",
              "      <th>bill_amt2</th>\n",
              "      <th>bill_amt3</th>\n",
              "      <th>bill_amt4</th>\n",
              "      <th>bill_amt5</th>\n",
              "      <th>bill_amt6</th>\n",
              "      <th>pay_amt1</th>\n",
              "      <th>pay_amt2</th>\n",
              "      <th>pay_amt3</th>\n",
              "      <th>pay_amt4</th>\n",
              "      <th>pay_amt5</th>\n",
              "      <th>pay_amt6</th>\n",
              "      <th>Default</th>\n",
              "    </tr>\n",
              "  </thead>\n",
              "  <tbody>\n",
              "    <tr>\n",
              "      <th>0</th>\n",
              "      <td>1</td>\n",
              "      <td>20000</td>\n",
              "      <td>2</td>\n",
              "      <td>2</td>\n",
              "      <td>1</td>\n",
              "      <td>24</td>\n",
              "      <td>2</td>\n",
              "      <td>2</td>\n",
              "      <td>-1</td>\n",
              "      <td>-1</td>\n",
              "      <td>-2</td>\n",
              "      <td>-2</td>\n",
              "      <td>3913</td>\n",
              "      <td>3102</td>\n",
              "      <td>689</td>\n",
              "      <td>0</td>\n",
              "      <td>0</td>\n",
              "      <td>0</td>\n",
              "      <td>0</td>\n",
              "      <td>689</td>\n",
              "      <td>0</td>\n",
              "      <td>0</td>\n",
              "      <td>0</td>\n",
              "      <td>0</td>\n",
              "      <td>1</td>\n",
              "    </tr>\n",
              "    <tr>\n",
              "      <th>1</th>\n",
              "      <td>2</td>\n",
              "      <td>120000</td>\n",
              "      <td>2</td>\n",
              "      <td>2</td>\n",
              "      <td>2</td>\n",
              "      <td>26</td>\n",
              "      <td>-1</td>\n",
              "      <td>2</td>\n",
              "      <td>0</td>\n",
              "      <td>0</td>\n",
              "      <td>0</td>\n",
              "      <td>2</td>\n",
              "      <td>2682</td>\n",
              "      <td>1725</td>\n",
              "      <td>2682</td>\n",
              "      <td>3272</td>\n",
              "      <td>3455</td>\n",
              "      <td>3261</td>\n",
              "      <td>0</td>\n",
              "      <td>1000</td>\n",
              "      <td>1000</td>\n",
              "      <td>1000</td>\n",
              "      <td>0</td>\n",
              "      <td>2000</td>\n",
              "      <td>1</td>\n",
              "    </tr>\n",
              "    <tr>\n",
              "      <th>2</th>\n",
              "      <td>3</td>\n",
              "      <td>90000</td>\n",
              "      <td>2</td>\n",
              "      <td>2</td>\n",
              "      <td>2</td>\n",
              "      <td>34</td>\n",
              "      <td>0</td>\n",
              "      <td>0</td>\n",
              "      <td>0</td>\n",
              "      <td>0</td>\n",
              "      <td>0</td>\n",
              "      <td>0</td>\n",
              "      <td>29239</td>\n",
              "      <td>14027</td>\n",
              "      <td>13559</td>\n",
              "      <td>14331</td>\n",
              "      <td>14948</td>\n",
              "      <td>15549</td>\n",
              "      <td>1518</td>\n",
              "      <td>1500</td>\n",
              "      <td>1000</td>\n",
              "      <td>1000</td>\n",
              "      <td>1000</td>\n",
              "      <td>5000</td>\n",
              "      <td>0</td>\n",
              "    </tr>\n",
              "    <tr>\n",
              "      <th>3</th>\n",
              "      <td>4</td>\n",
              "      <td>50000</td>\n",
              "      <td>2</td>\n",
              "      <td>2</td>\n",
              "      <td>1</td>\n",
              "      <td>37</td>\n",
              "      <td>0</td>\n",
              "      <td>0</td>\n",
              "      <td>0</td>\n",
              "      <td>0</td>\n",
              "      <td>0</td>\n",
              "      <td>0</td>\n",
              "      <td>46990</td>\n",
              "      <td>48233</td>\n",
              "      <td>49291</td>\n",
              "      <td>28314</td>\n",
              "      <td>28959</td>\n",
              "      <td>29547</td>\n",
              "      <td>2000</td>\n",
              "      <td>2019</td>\n",
              "      <td>1200</td>\n",
              "      <td>1100</td>\n",
              "      <td>1069</td>\n",
              "      <td>1000</td>\n",
              "      <td>0</td>\n",
              "    </tr>\n",
              "    <tr>\n",
              "      <th>4</th>\n",
              "      <td>5</td>\n",
              "      <td>50000</td>\n",
              "      <td>1</td>\n",
              "      <td>2</td>\n",
              "      <td>1</td>\n",
              "      <td>57</td>\n",
              "      <td>-1</td>\n",
              "      <td>0</td>\n",
              "      <td>-1</td>\n",
              "      <td>0</td>\n",
              "      <td>0</td>\n",
              "      <td>0</td>\n",
              "      <td>8617</td>\n",
              "      <td>5670</td>\n",
              "      <td>35835</td>\n",
              "      <td>20940</td>\n",
              "      <td>19146</td>\n",
              "      <td>19131</td>\n",
              "      <td>2000</td>\n",
              "      <td>36681</td>\n",
              "      <td>10000</td>\n",
              "      <td>9000</td>\n",
              "      <td>689</td>\n",
              "      <td>679</td>\n",
              "      <td>0</td>\n",
              "    </tr>\n",
              "  </tbody>\n",
              "</table>\n",
              "</div>\n",
              "      <button class=\"colab-df-convert\" onclick=\"convertToInteractive('df-87819577-2b72-458a-b130-68ac6071bf67')\"\n",
              "              title=\"Convert this dataframe to an interactive table.\"\n",
              "              style=\"display:none;\">\n",
              "        \n",
              "  <svg xmlns=\"http://www.w3.org/2000/svg\" height=\"24px\"viewBox=\"0 0 24 24\"\n",
              "       width=\"24px\">\n",
              "    <path d=\"M0 0h24v24H0V0z\" fill=\"none\"/>\n",
              "    <path d=\"M18.56 5.44l.94 2.06.94-2.06 2.06-.94-2.06-.94-.94-2.06-.94 2.06-2.06.94zm-11 1L8.5 8.5l.94-2.06 2.06-.94-2.06-.94L8.5 2.5l-.94 2.06-2.06.94zm10 10l.94 2.06.94-2.06 2.06-.94-2.06-.94-.94-2.06-.94 2.06-2.06.94z\"/><path d=\"M17.41 7.96l-1.37-1.37c-.4-.4-.92-.59-1.43-.59-.52 0-1.04.2-1.43.59L10.3 9.45l-7.72 7.72c-.78.78-.78 2.05 0 2.83L4 21.41c.39.39.9.59 1.41.59.51 0 1.02-.2 1.41-.59l7.78-7.78 2.81-2.81c.8-.78.8-2.07 0-2.86zM5.41 20L4 18.59l7.72-7.72 1.47 1.35L5.41 20z\"/>\n",
              "  </svg>\n",
              "      </button>\n",
              "      \n",
              "  <style>\n",
              "    .colab-df-container {\n",
              "      display:flex;\n",
              "      flex-wrap:wrap;\n",
              "      gap: 12px;\n",
              "    }\n",
              "\n",
              "    .colab-df-convert {\n",
              "      background-color: #E8F0FE;\n",
              "      border: none;\n",
              "      border-radius: 50%;\n",
              "      cursor: pointer;\n",
              "      display: none;\n",
              "      fill: #1967D2;\n",
              "      height: 32px;\n",
              "      padding: 0 0 0 0;\n",
              "      width: 32px;\n",
              "    }\n",
              "\n",
              "    .colab-df-convert:hover {\n",
              "      background-color: #E2EBFA;\n",
              "      box-shadow: 0px 1px 2px rgba(60, 64, 67, 0.3), 0px 1px 3px 1px rgba(60, 64, 67, 0.15);\n",
              "      fill: #174EA6;\n",
              "    }\n",
              "\n",
              "    [theme=dark] .colab-df-convert {\n",
              "      background-color: #3B4455;\n",
              "      fill: #D2E3FC;\n",
              "    }\n",
              "\n",
              "    [theme=dark] .colab-df-convert:hover {\n",
              "      background-color: #434B5C;\n",
              "      box-shadow: 0px 1px 3px 1px rgba(0, 0, 0, 0.15);\n",
              "      filter: drop-shadow(0px 1px 2px rgba(0, 0, 0, 0.3));\n",
              "      fill: #FFFFFF;\n",
              "    }\n",
              "  </style>\n",
              "\n",
              "      <script>\n",
              "        const buttonEl =\n",
              "          document.querySelector('#df-87819577-2b72-458a-b130-68ac6071bf67 button.colab-df-convert');\n",
              "        buttonEl.style.display =\n",
              "          google.colab.kernel.accessAllowed ? 'block' : 'none';\n",
              "\n",
              "        async function convertToInteractive(key) {\n",
              "          const element = document.querySelector('#df-87819577-2b72-458a-b130-68ac6071bf67');\n",
              "          const dataTable =\n",
              "            await google.colab.kernel.invokeFunction('convertToInteractive',\n",
              "                                                     [key], {});\n",
              "          if (!dataTable) return;\n",
              "\n",
              "          const docLinkHtml = 'Like what you see? Visit the ' +\n",
              "            '<a target=\"_blank\" href=https://colab.research.google.com/notebooks/data_table.ipynb>data table notebook</a>'\n",
              "            + ' to learn more about interactive tables.';\n",
              "          element.innerHTML = '';\n",
              "          dataTable['output_type'] = 'display_data';\n",
              "          await google.colab.output.renderOutput(dataTable, element);\n",
              "          const docLink = document.createElement('div');\n",
              "          docLink.innerHTML = docLinkHtml;\n",
              "          element.appendChild(docLink);\n",
              "        }\n",
              "      </script>\n",
              "    </div>\n",
              "  </div>\n",
              "  "
            ],
            "text/plain": [
              "   id  limit_bal  sex  education  ...  pay_amt4  pay_amt5  pay_amt6  Default\n",
              "0   1      20000    2          2  ...         0         0         0        1\n",
              "1   2     120000    2          2  ...      1000         0      2000        1\n",
              "2   3      90000    2          2  ...      1000      1000      5000        0\n",
              "3   4      50000    2          2  ...      1100      1069      1000        0\n",
              "4   5      50000    1          2  ...      9000       689       679        0\n",
              "\n",
              "[5 rows x 25 columns]"
            ]
          },
          "metadata": {},
          "execution_count": 33
        }
      ],
      "source": [
        "# upload csv file in current working directory\n",
        "\n",
        "df = pd.read_csv(r\"card_data.csv\")\n",
        "df.head()"
      ]
    },
    {
      "cell_type": "markdown",
      "metadata": {
        "id": "Kyxh078Zawfj"
      },
      "source": [
        "# Data Preprocessing"
      ]
    },
    {
      "cell_type": "code",
      "execution_count": null,
      "metadata": {
        "id": "chLYKVuiawfl"
      },
      "outputs": [],
      "source": [
        "# The column names are a little odd, so let's change them\n",
        "column_names = {\n",
        "    'history_names': {\n",
        "        'pay_0':'Sep_Hist','pay_6':'Aug_Hist','pay_2':'Jul_Hist',\n",
        "        'pay_3':'Jun_Hist','pay_4':'May_Hist','pay_5':'Apr_Hist'\n",
        "    },\n",
        "    'balance_names': {\n",
        "        'bill_amt1':'Sep_Bal','bill_amt2':'Aug_Bal','bill_amt3':'Jul_Bal',\n",
        "        'bill_amt4':'Jun_Bal','bill_amt5':'May_Bal','bill_amt6':'Apr_Bal'\n",
        "    },\n",
        "    'payment_names': {\n",
        "        'pay_amt1':'Sep_Pmt','pay_amt2':'Aug_Pmt','pay_amt3':'Jul_Pmt',\n",
        "        'pay_amt4':'Jun_Pmt','pay_amt5':'May_Pmt','pay_amt6':'Apr_Pmt'\n",
        "    }\n",
        "}\n",
        "\n",
        "for column_name in column_names:\n",
        "    df.rename(columns=column_names[column_name], inplace=True)\n",
        "\n",
        "df.rename(columns={'default_payment_next_month': 'Default'}, inplace=True)"
      ]
    },
    {
      "cell_type": "code",
      "execution_count": null,
      "metadata": {
        "id": "OzYasZphawfn"
      },
      "outputs": [],
      "source": [
        "# ID column is just an identifier, which also has no predictive value. So we remove.\n",
        "df.drop(['id'], axis=1, inplace=True)"
      ]
    },
    {
      "cell_type": "code",
      "execution_count": null,
      "metadata": {
        "id": "05oz3xzqawfn"
      },
      "outputs": [],
      "source": [
        "# Sex, education, and marriage should be categorical columns\n",
        "df['sex'].replace(to_replace=['1', '2'], value=['male', 'female'], inplace=True)\n",
        "\n",
        "df['education'].replace(to_replace=['1', '2', '3', '4', '6', '0'],\n",
        "                        value=['graduate', 'university', 'highschool', 'other', 'other', 'other'],\n",
        "                        inplace=True)\n",
        "\n",
        "df['marriage'].replace(to_replace=['1', '2', '3', '0'], value=['married', 'single', 'other', 'other'], inplace=True)"
      ]
    },
    {
      "cell_type": "code",
      "execution_count": null,
      "metadata": {
        "colab": {
          "base_uri": "https://localhost:8080/"
        },
        "id": "98s4x-O3awfn",
        "outputId": "fa08abe0-dcfc-428a-bbf2-dcd2691c8f2b"
      },
      "outputs": [
        {
          "output_type": "stream",
          "name": "stdout",
          "text": [
            "[-2, -1, 0, 1, 2, 3, 4, 5, 6, 7, 8]\n",
            "[-2, -1, 0, 2, 3, 4, 5, 6, 7, 8]\n",
            "[-2, -1, 0, 1, 2, 3, 4, 5, 6, 7, 8]\n",
            "[-2, -1, 0, 1, 2, 3, 4, 5, 6, 7, 8]\n",
            "[-2, -1, 0, 1, 2, 3, 4, 5, 6, 7, 8]\n",
            "[-2, -1, 0, 2, 3, 4, 5, 6, 7, 8]\n"
          ]
        }
      ],
      "source": [
        "# Let's take a look at the range of values for payment history\n",
        "payment_months = ['Sep_Hist', 'Aug_Hist', 'Jul_Hist',\n",
        "                  'Jun_Hist', 'May_Hist', 'Apr_Hist']\n",
        "\n",
        "for month in payment_months:\n",
        "    print(sorted(df[month].unique()))"
      ]
    },
    {
      "cell_type": "code",
      "execution_count": null,
      "metadata": {
        "id": "YeMz5Ygpawfo"
      },
      "outputs": [],
      "source": [
        "# These ranges are pretty odd, let's change the range to 0-10, which is more reasonable\n",
        "old_range = [-2, -1, 0, 1, 2, 3, 4, 5, 6, 7, 8]\n",
        "new_range = [0, 1, 2, 3, 4, 5, 6, 7, 8, 9, 10]\n",
        "\n",
        "for month in payment_months:\n",
        "    df[month].replace(to_replace=old_range,\n",
        "                      value=new_range,\n",
        "                      inplace=True)"
      ]
    },
    {
      "cell_type": "code",
      "execution_count": null,
      "metadata": {
        "id": "8jHcyjn6awfp"
      },
      "outputs": [],
      "source": [
        "# Save dataframe to a csv for use in Tableau and serialize object as pickle\n",
        "# for later use\n",
        "# df.to_csv('/Users/dominguez/Documents/Classification_Credit_Cards/data/df.csv')\n",
        "\n",
        "# with open('/Users/dominguez/Documents/Classification_Credit_Cards/web_app/df.pickle', 'wb') as to_write:\n",
        "#    pickle.dump(df, to_write)"
      ]
    },
    {
      "cell_type": "markdown",
      "metadata": {
        "id": "bkwhRzgmawfp"
      },
      "source": [
        "# Exploratory Analysis"
      ]
    },
    {
      "cell_type": "code",
      "execution_count": null,
      "metadata": {
        "colab": {
          "base_uri": "https://localhost:8080/",
          "height": 270
        },
        "id": "SD0WoVjNawfq",
        "outputId": "cdeaf589-432d-401c-a809-03516e8f2acb"
      },
      "outputs": [
        {
          "output_type": "execute_result",
          "data": {
            "text/html": [
              "\n",
              "  <div id=\"df-efed3f18-f821-43fb-b498-ae4bf55a31cb\">\n",
              "    <div class=\"colab-df-container\">\n",
              "      <div>\n",
              "<style scoped>\n",
              "    .dataframe tbody tr th:only-of-type {\n",
              "        vertical-align: middle;\n",
              "    }\n",
              "\n",
              "    .dataframe tbody tr th {\n",
              "        vertical-align: top;\n",
              "    }\n",
              "\n",
              "    .dataframe thead th {\n",
              "        text-align: right;\n",
              "    }\n",
              "</style>\n",
              "<table border=\"1\" class=\"dataframe\">\n",
              "  <thead>\n",
              "    <tr style=\"text-align: right;\">\n",
              "      <th></th>\n",
              "      <th>limit_bal</th>\n",
              "      <th>sex</th>\n",
              "      <th>education</th>\n",
              "      <th>marriage</th>\n",
              "      <th>age</th>\n",
              "      <th>Sep_Hist</th>\n",
              "      <th>Jul_Hist</th>\n",
              "      <th>Jun_Hist</th>\n",
              "      <th>May_Hist</th>\n",
              "      <th>Apr_Hist</th>\n",
              "      <th>Aug_Hist</th>\n",
              "      <th>Sep_Bal</th>\n",
              "      <th>Aug_Bal</th>\n",
              "      <th>Jul_Bal</th>\n",
              "      <th>Jun_Bal</th>\n",
              "      <th>May_Bal</th>\n",
              "      <th>Apr_Bal</th>\n",
              "      <th>Sep_Pmt</th>\n",
              "      <th>Aug_Pmt</th>\n",
              "      <th>Jul_Pmt</th>\n",
              "      <th>Jun_Pmt</th>\n",
              "      <th>May_Pmt</th>\n",
              "      <th>Apr_Pmt</th>\n",
              "      <th>Default</th>\n",
              "    </tr>\n",
              "  </thead>\n",
              "  <tbody>\n",
              "    <tr>\n",
              "      <th>0</th>\n",
              "      <td>20000</td>\n",
              "      <td>2</td>\n",
              "      <td>2</td>\n",
              "      <td>1</td>\n",
              "      <td>24</td>\n",
              "      <td>4</td>\n",
              "      <td>4</td>\n",
              "      <td>1</td>\n",
              "      <td>1</td>\n",
              "      <td>0</td>\n",
              "      <td>0</td>\n",
              "      <td>3913</td>\n",
              "      <td>3102</td>\n",
              "      <td>689</td>\n",
              "      <td>0</td>\n",
              "      <td>0</td>\n",
              "      <td>0</td>\n",
              "      <td>0</td>\n",
              "      <td>689</td>\n",
              "      <td>0</td>\n",
              "      <td>0</td>\n",
              "      <td>0</td>\n",
              "      <td>0</td>\n",
              "      <td>1</td>\n",
              "    </tr>\n",
              "    <tr>\n",
              "      <th>1</th>\n",
              "      <td>120000</td>\n",
              "      <td>2</td>\n",
              "      <td>2</td>\n",
              "      <td>2</td>\n",
              "      <td>26</td>\n",
              "      <td>1</td>\n",
              "      <td>4</td>\n",
              "      <td>2</td>\n",
              "      <td>2</td>\n",
              "      <td>2</td>\n",
              "      <td>4</td>\n",
              "      <td>2682</td>\n",
              "      <td>1725</td>\n",
              "      <td>2682</td>\n",
              "      <td>3272</td>\n",
              "      <td>3455</td>\n",
              "      <td>3261</td>\n",
              "      <td>0</td>\n",
              "      <td>1000</td>\n",
              "      <td>1000</td>\n",
              "      <td>1000</td>\n",
              "      <td>0</td>\n",
              "      <td>2000</td>\n",
              "      <td>1</td>\n",
              "    </tr>\n",
              "    <tr>\n",
              "      <th>2</th>\n",
              "      <td>90000</td>\n",
              "      <td>2</td>\n",
              "      <td>2</td>\n",
              "      <td>2</td>\n",
              "      <td>34</td>\n",
              "      <td>2</td>\n",
              "      <td>2</td>\n",
              "      <td>2</td>\n",
              "      <td>2</td>\n",
              "      <td>2</td>\n",
              "      <td>2</td>\n",
              "      <td>29239</td>\n",
              "      <td>14027</td>\n",
              "      <td>13559</td>\n",
              "      <td>14331</td>\n",
              "      <td>14948</td>\n",
              "      <td>15549</td>\n",
              "      <td>1518</td>\n",
              "      <td>1500</td>\n",
              "      <td>1000</td>\n",
              "      <td>1000</td>\n",
              "      <td>1000</td>\n",
              "      <td>5000</td>\n",
              "      <td>0</td>\n",
              "    </tr>\n",
              "    <tr>\n",
              "      <th>3</th>\n",
              "      <td>50000</td>\n",
              "      <td>2</td>\n",
              "      <td>2</td>\n",
              "      <td>1</td>\n",
              "      <td>37</td>\n",
              "      <td>2</td>\n",
              "      <td>2</td>\n",
              "      <td>2</td>\n",
              "      <td>2</td>\n",
              "      <td>2</td>\n",
              "      <td>2</td>\n",
              "      <td>46990</td>\n",
              "      <td>48233</td>\n",
              "      <td>49291</td>\n",
              "      <td>28314</td>\n",
              "      <td>28959</td>\n",
              "      <td>29547</td>\n",
              "      <td>2000</td>\n",
              "      <td>2019</td>\n",
              "      <td>1200</td>\n",
              "      <td>1100</td>\n",
              "      <td>1069</td>\n",
              "      <td>1000</td>\n",
              "      <td>0</td>\n",
              "    </tr>\n",
              "    <tr>\n",
              "      <th>4</th>\n",
              "      <td>50000</td>\n",
              "      <td>1</td>\n",
              "      <td>2</td>\n",
              "      <td>1</td>\n",
              "      <td>57</td>\n",
              "      <td>1</td>\n",
              "      <td>2</td>\n",
              "      <td>1</td>\n",
              "      <td>2</td>\n",
              "      <td>2</td>\n",
              "      <td>2</td>\n",
              "      <td>8617</td>\n",
              "      <td>5670</td>\n",
              "      <td>35835</td>\n",
              "      <td>20940</td>\n",
              "      <td>19146</td>\n",
              "      <td>19131</td>\n",
              "      <td>2000</td>\n",
              "      <td>36681</td>\n",
              "      <td>10000</td>\n",
              "      <td>9000</td>\n",
              "      <td>689</td>\n",
              "      <td>679</td>\n",
              "      <td>0</td>\n",
              "    </tr>\n",
              "  </tbody>\n",
              "</table>\n",
              "</div>\n",
              "      <button class=\"colab-df-convert\" onclick=\"convertToInteractive('df-efed3f18-f821-43fb-b498-ae4bf55a31cb')\"\n",
              "              title=\"Convert this dataframe to an interactive table.\"\n",
              "              style=\"display:none;\">\n",
              "        \n",
              "  <svg xmlns=\"http://www.w3.org/2000/svg\" height=\"24px\"viewBox=\"0 0 24 24\"\n",
              "       width=\"24px\">\n",
              "    <path d=\"M0 0h24v24H0V0z\" fill=\"none\"/>\n",
              "    <path d=\"M18.56 5.44l.94 2.06.94-2.06 2.06-.94-2.06-.94-.94-2.06-.94 2.06-2.06.94zm-11 1L8.5 8.5l.94-2.06 2.06-.94-2.06-.94L8.5 2.5l-.94 2.06-2.06.94zm10 10l.94 2.06.94-2.06 2.06-.94-2.06-.94-.94-2.06-.94 2.06-2.06.94z\"/><path d=\"M17.41 7.96l-1.37-1.37c-.4-.4-.92-.59-1.43-.59-.52 0-1.04.2-1.43.59L10.3 9.45l-7.72 7.72c-.78.78-.78 2.05 0 2.83L4 21.41c.39.39.9.59 1.41.59.51 0 1.02-.2 1.41-.59l7.78-7.78 2.81-2.81c.8-.78.8-2.07 0-2.86zM5.41 20L4 18.59l7.72-7.72 1.47 1.35L5.41 20z\"/>\n",
              "  </svg>\n",
              "      </button>\n",
              "      \n",
              "  <style>\n",
              "    .colab-df-container {\n",
              "      display:flex;\n",
              "      flex-wrap:wrap;\n",
              "      gap: 12px;\n",
              "    }\n",
              "\n",
              "    .colab-df-convert {\n",
              "      background-color: #E8F0FE;\n",
              "      border: none;\n",
              "      border-radius: 50%;\n",
              "      cursor: pointer;\n",
              "      display: none;\n",
              "      fill: #1967D2;\n",
              "      height: 32px;\n",
              "      padding: 0 0 0 0;\n",
              "      width: 32px;\n",
              "    }\n",
              "\n",
              "    .colab-df-convert:hover {\n",
              "      background-color: #E2EBFA;\n",
              "      box-shadow: 0px 1px 2px rgba(60, 64, 67, 0.3), 0px 1px 3px 1px rgba(60, 64, 67, 0.15);\n",
              "      fill: #174EA6;\n",
              "    }\n",
              "\n",
              "    [theme=dark] .colab-df-convert {\n",
              "      background-color: #3B4455;\n",
              "      fill: #D2E3FC;\n",
              "    }\n",
              "\n",
              "    [theme=dark] .colab-df-convert:hover {\n",
              "      background-color: #434B5C;\n",
              "      box-shadow: 0px 1px 3px 1px rgba(0, 0, 0, 0.15);\n",
              "      filter: drop-shadow(0px 1px 2px rgba(0, 0, 0, 0.3));\n",
              "      fill: #FFFFFF;\n",
              "    }\n",
              "  </style>\n",
              "\n",
              "      <script>\n",
              "        const buttonEl =\n",
              "          document.querySelector('#df-efed3f18-f821-43fb-b498-ae4bf55a31cb button.colab-df-convert');\n",
              "        buttonEl.style.display =\n",
              "          google.colab.kernel.accessAllowed ? 'block' : 'none';\n",
              "\n",
              "        async function convertToInteractive(key) {\n",
              "          const element = document.querySelector('#df-efed3f18-f821-43fb-b498-ae4bf55a31cb');\n",
              "          const dataTable =\n",
              "            await google.colab.kernel.invokeFunction('convertToInteractive',\n",
              "                                                     [key], {});\n",
              "          if (!dataTable) return;\n",
              "\n",
              "          const docLinkHtml = 'Like what you see? Visit the ' +\n",
              "            '<a target=\"_blank\" href=https://colab.research.google.com/notebooks/data_table.ipynb>data table notebook</a>'\n",
              "            + ' to learn more about interactive tables.';\n",
              "          element.innerHTML = '';\n",
              "          dataTable['output_type'] = 'display_data';\n",
              "          await google.colab.output.renderOutput(dataTable, element);\n",
              "          const docLink = document.createElement('div');\n",
              "          docLink.innerHTML = docLinkHtml;\n",
              "          element.appendChild(docLink);\n",
              "        }\n",
              "      </script>\n",
              "    </div>\n",
              "  </div>\n",
              "  "
            ],
            "text/plain": [
              "   limit_bal  sex  education  marriage  ...  Jun_Pmt  May_Pmt  Apr_Pmt  Default\n",
              "0      20000    2          2         1  ...        0        0        0        1\n",
              "1     120000    2          2         2  ...     1000        0     2000        1\n",
              "2      90000    2          2         2  ...     1000     1000     5000        0\n",
              "3      50000    2          2         1  ...     1100     1069     1000        0\n",
              "4      50000    1          2         1  ...     9000      689      679        0\n",
              "\n",
              "[5 rows x 24 columns]"
            ]
          },
          "metadata": {},
          "execution_count": 40
        }
      ],
      "source": [
        "df.head()"
      ]
    },
    {
      "cell_type": "markdown",
      "metadata": {
        "id": "-7DCQuU9awfq"
      },
      "source": [
        "## Visualize Data"
      ]
    },
    {
      "cell_type": "code",
      "execution_count": null,
      "metadata": {
        "colab": {
          "base_uri": "https://localhost:8080/",
          "height": 391
        },
        "id": "a2uKZRVtawfr",
        "outputId": "9a075002-84a1-4819-fa35-7e20f2f6364e"
      },
      "outputs": [
        {
          "output_type": "display_data",
          "data": {
            "image/png": "[encoded data removed]",
            "text/plain": [
              "<Figure size 720x432 with 1 Axes>"
            ]
          },
          "metadata": {
            "needs_background": "light"
          }
        }
      ],
      "source": [
        "# Average balance over time\n",
        "bal_months = ['Apr_Bal', 'May_Bal', 'Jun_Bal',\n",
        "              'Jul_Bal', 'Aug_Bal', 'Sep_Bal']\n",
        "avg_bal = []\n",
        "\n",
        "for month in bal_months:\n",
        "    avg_bal.append(df[month].mean())\n",
        "\n",
        "plt.figure(figsize=(10,6))\n",
        "plt.plot(bal_months, avg_bal)\n",
        "plt.title('Average Balance Over Time ($)')\n",
        "plt.show();"
      ]
    },
    {
      "cell_type": "code",
      "execution_count": null,
      "metadata": {
        "colab": {
          "base_uri": "https://localhost:8080/",
          "height": 391
        },
        "id": "Z1_5HOyCawfs",
        "outputId": "f3f7436a-1040-4f12-a105-9bf35e87a052"
      },
      "outputs": [
        {
          "output_type": "display_data",
          "data": {
            "image/png": "[encoded data removed]",
            "text/plain": [
              "<Figure size 720x432 with 1 Axes>"
            ]
          },
          "metadata": {
            "needs_background": "light"
          }
        }
      ],
      "source": [
        "# Average payment over time\n",
        "monthly_payments = ['Apr_Pmt', 'May_Pmt', 'Jun_Pmt',\n",
        "                    'Jul_Pmt', 'Aug_Pmt', 'Sep_Pmt']\n",
        "avg_pmt = []\n",
        "\n",
        "for month in monthly_payments:\n",
        "    avg_pmt.append(df[month].mean())\n",
        "\n",
        "plt.figure(figsize=(10,6))\n",
        "plt.plot(monthly_payments, avg_pmt)\n",
        "plt.title('Average Payment Over Time ($)')\n",
        "plt.show();"
      ]
    },
    {
      "cell_type": "code",
      "execution_count": null,
      "metadata": {
        "colab": {
          "base_uri": "https://localhost:8080/",
          "height": 390
        },
        "id": "_drgoJ_bawft",
        "outputId": "b7c6c4c0-2433-42b1-d138-5c2d9222fb10"
      },
      "outputs": [
        {
          "output_type": "display_data",
          "data": {
            "image/png": "[encoded data removed]",
            "text/plain": [
              "<Figure size 720x432 with 1 Axes>"
            ]
          },
          "metadata": {
            "needs_background": "light"
          }
        }
      ],
      "source": [
        "# The data is highly imbalanced\n",
        "plt.figure(figsize=(10,6))\n",
        "plt.hist(df['Default'], bins=2)\n",
        "plt.title('Target Distribution')\n",
        "plt.xticks([0,1])\n",
        "plt.show();"
      ]
    },
    {
      "cell_type": "markdown",
      "metadata": {
        "id": "On5mlBVYawft"
      },
      "source": [
        "Highly imbalanced dataset"
      ]
    },
    {
      "cell_type": "code",
      "execution_count": null,
      "metadata": {
        "colab": {
          "base_uri": "https://localhost:8080/",
          "height": 462
        },
        "id": "MgXGZgd7awfu",
        "outputId": "b3997e4d-f702-40b0-f608-302838749e1c"
      },
      "outputs": [
        {
          "output_type": "stream",
          "name": "stderr",
          "text": [
            "/usr/local/lib/python3.7/dist-packages/seaborn/distributions.py:2619: FutureWarning: `distplot` is a deprecated function and will be removed in a future version. Please adapt your code to use either `displot` (a figure-level function with similar flexibility) or `histplot` (an axes-level function for histograms).\n",
            "  warnings.warn(msg, FutureWarning)\n"
          ]
        },
        {
          "output_type": "display_data",
          "data": {
            "image/png": "[encoded data removed]",
            "text/plain": [
              "<Figure size 720x432 with 1 Axes>"
            ]
          },
          "metadata": {
            "needs_background": "light"
          }
        }
      ],
      "source": [
        "# Distribution of limit balance\n",
        "plt.figure(figsize = (10,6))\n",
        "plt.title('Credit Limit Amount - Probability Density')\n",
        "plt.ticklabel_format(style='plain', axis='x')\n",
        "sns.distplot(df['limit_bal'],kde=True,bins=100, color=\"blue\")\n",
        "plt.show();"
      ]
    },
    {
      "cell_type": "code",
      "execution_count": null,
      "metadata": {
        "colab": {
          "base_uri": "https://localhost:8080/"
        },
        "id": "Isrwp0hwawfu",
        "outputId": "1219bfa7-cdcb-4388-d20f-2140e338c1e1"
      },
      "outputs": [
        {
          "output_type": "execute_result",
          "data": {
            "text/plain": [
              "50000     3365\n",
              "20000     1976\n",
              "30000     1610\n",
              "80000     1567\n",
              "200000    1528\n",
              "Name: limit_bal, dtype: int64"
            ]
          },
          "metadata": {},
          "execution_count": 45
        }
      ],
      "source": [
        "# Top Credit Limit Amounts in our distribution\n",
        "df['limit_bal'].value_counts().head()"
      ]
    },
    {
      "cell_type": "markdown",
      "metadata": {
        "id": "-j2OZg03awfv"
      },
      "source": [
        "Largest Credit Limit Amount groups are 50k, 20k, and 30k"
      ]
    },
    {
      "cell_type": "code",
      "execution_count": null,
      "metadata": {
        "colab": {
          "base_uri": "https://localhost:8080/",
          "height": 404
        },
        "id": "bwOhScBUawfv",
        "outputId": "d60a7a33-90cb-4c6d-c044-a6ef4042cb61"
      },
      "outputs": [
        {
          "output_type": "display_data",
          "data": {
            "image/png": "[encoded data removed]",
            "text/plain": [
              "<Figure size 576x432 with 1 Axes>"
            ]
          },
          "metadata": {
            "needs_background": "light"
          }
        }
      ],
      "source": [
        "# Credit Limit vs Sex\n",
        "plt.figure(figsize = (8,6))\n",
        "plt.title('Credit Limit Amount by Sex')\n",
        "plt.ticklabel_format(style='plain', axis='y')\n",
        "sns.boxplot(x='sex', y='limit_bal', hue='sex', data=df, palette='bright')\n",
        "plt.show();"
      ]
    },
    {
      "cell_type": "markdown",
      "metadata": {
        "id": "8VBc_QYeawfw"
      },
      "source": [
        "Credit limit amount is evenly distributed amongst males and females"
      ]
    },
    {
      "cell_type": "code",
      "execution_count": null,
      "metadata": {
        "colab": {
          "base_uri": "https://localhost:8080/",
          "height": 384
        },
        "id": "VHTNpQQdawfw",
        "outputId": "8b2060ec-f936-4bbe-fc73-0ace50ac304a"
      },
      "outputs": [
        {
          "output_type": "display_data",
          "data": {
            "image/png": "[encoded data removed]",
            "text/plain": [
              "<Figure size 576x432 with 1 Axes>"
            ]
          },
          "metadata": {
            "needs_background": "light"
          }
        }
      ],
      "source": [
        "# Marriage, Age, and Sex\n",
        "def boxplot_variation(feature1, feature2, feature3, width=16):\n",
        "    fig, ax1 = plt.subplots(ncols=1, figsize=(width, 6))\n",
        "    s = sns.boxplot(ax=ax1, x=feature1, y=feature2, hue=feature3,\n",
        "                    data=df, palette='bright')\n",
        "    s.set_xticklabels(s.get_xticklabels(), rotation=90)\n",
        "    plt.show();\n",
        "\n",
        "boxplot_variation('marriage', 'age', 'sex', 8)"
      ]
    },
    {
      "cell_type": "code",
      "execution_count": null,
      "metadata": {
        "colab": {
          "base_uri": "https://localhost:8080/",
          "height": 500
        },
        "id": "sRVTJwPmawgy",
        "outputId": "373b6597-c983-4a83-a093-1e6c29d082de"
      },
      "outputs": [
        {
          "output_type": "display_data",
          "data": {
            "image/png": "[encoded data removed]",
            "text/plain": [
              "<Figure size 576x576 with 2 Axes>"
            ]
          },
          "metadata": {
            "needs_background": "light"
          }
        }
      ],
      "source": [
        "# Amount of Bill Statement\n",
        "# Correlation Plot\n",
        "values = list(column_names['balance_names'].values())\n",
        "\n",
        "plt.figure(figsize=(8,8))\n",
        "plt.title('Bill Statement Amount Correlations')\n",
        "corr = df[values].corr()\n",
        "sns.heatmap(corr, xticklabels=corr.columns, yticklabels=corr.columns, linewidths=0.1, vmin=-1, vmax=1)\n",
        "plt.show();"
      ]
    },
    {
      "cell_type": "markdown",
      "metadata": {
        "id": "D80LTq8jawgz"
      },
      "source": [
        "Correlation between months becomes stronger the closer the months are in time."
      ]
    },
    {
      "cell_type": "code",
      "execution_count": null,
      "metadata": {
        "colab": {
          "base_uri": "https://localhost:8080/",
          "height": 500
        },
        "id": "YMg2JJQ5awg3",
        "outputId": "d678e399-923b-4580-ba1e-e4d1d99a113b"
      },
      "outputs": [
        {
          "output_type": "display_data",
          "data": {
            "image/png": "[encoded data removed]",
            "text/plain": [
              "<Figure size 576x576 with 2 Axes>"
            ]
          },
          "metadata": {
            "needs_background": "light"
          }
        }
      ],
      "source": [
        "# Amount of Previous Payment\n",
        "# Correlation Plot\n",
        "values = list(column_names['payment_names'].values())\n",
        "\n",
        "plt.figure(figsize=(8,8))\n",
        "plt.title('Payment Amount Correlations')\n",
        "corr = df[values].corr()\n",
        "sns.heatmap(corr, xticklabels=corr.columns, yticklabels=corr.columns, linewidths=0.1, vmin=-1, vmax=1)\n",
        "plt.show();"
      ]
    },
    {
      "cell_type": "markdown",
      "metadata": {
        "id": "KV430SHdawg3"
      },
      "source": [
        "No correlation between payment amount months"
      ]
    },
    {
      "cell_type": "code",
      "execution_count": null,
      "metadata": {
        "colab": {
          "base_uri": "https://localhost:8080/",
          "height": 500
        },
        "id": "hVHPJUEKawg3",
        "outputId": "8868fcc6-b105-4a79-8493-3e916fc2f8ad"
      },
      "outputs": [
        {
          "output_type": "display_data",
          "data": {
            "image/png": "[encoded data removed]",
            "text/plain": [
              "<Figure size 576x576 with 2 Axes>"
            ]
          },
          "metadata": {
            "needs_background": "light"
          }
        }
      ],
      "source": [
        "# Payment Status\n",
        "# Correlation Plot\n",
        "values = list(column_names['history_names'].values())\n",
        "\n",
        "plt.figure(figsize=(8,8))\n",
        "plt.title('Payment Status Correlations')\n",
        "corr = df[values].corr()\n",
        "sns.heatmap(corr, xticklabels=corr.columns, yticklabels=corr.columns, linewidths=0.1, vmin=-1, vmax=1)\n",
        "plt.show();"
      ]
    },
    {
      "cell_type": "markdown",
      "metadata": {
        "id": "TqKISjysawg4"
      },
      "source": [
        "Correlation gets stronger the closer the months are in time."
      ]
    },
    {
      "cell_type": "markdown",
      "metadata": {
        "id": "JkCq346Jawg5"
      },
      "source": [
        "# Minimal Viable Product\n",
        "\n",
        "Let's test several models to get a base model to proceed with further testing"
      ]
    },
    {
      "cell_type": "markdown",
      "metadata": {
        "id": "GtBr-St2awg6"
      },
      "source": [
        "## Features and target variables"
      ]
    },
    {
      "cell_type": "code",
      "execution_count": null,
      "metadata": {
        "id": "twPnao6-awg6"
      },
      "outputs": [],
      "source": [
        "X = df.loc[:,'limit_bal':'Apr_Pmt']\n",
        "y = df['Default']"
      ]
    },
    {
      "cell_type": "markdown",
      "metadata": {
        "id": "iEkMg-D6awg6"
      },
      "source": [
        "## Encode Categorical Variables"
      ]
    },
    {
      "cell_type": "code",
      "execution_count": null,
      "metadata": {
        "id": "-h_U4RA8awg6"
      },
      "outputs": [],
      "source": [
        "categoricals = list(X.select_dtypes('object').columns)\n",
        "numericals = list(X.select_dtypes('int64').columns)\n",
        "\n",
        "def encode_cats(categoricals, numericals):\n",
        "    \"\"\"\n",
        "    Takes in a list of categorical columns and a list of numerical columns and returns the dataframe with encoded variables\n",
        "    \"\"\"\n",
        "    ohe = OneHotEncoder(sparse=False, drop='first')\n",
        "    cat_matrix = ohe.fit_transform(X.loc[:, categoricals])\n",
        "    X_ohe = pd.DataFrame(cat_matrix,\n",
        "                         columns=ohe.get_feature_names(categoricals), #create meaningful column names\n",
        "                         index=X.index) #keep the same index values\n",
        "    \n",
        "    return pd.concat([X.loc[:, numericals], X_ohe], axis=1)"
      ]
    },
    {
      "cell_type": "code",
      "execution_count": null,
      "metadata": {
        "colab": {
          "base_uri": "https://localhost:8080/"
        },
        "id": "XZ0l_zNRawg7",
        "outputId": "c3031949-6b9b-4b0d-d32d-285a94cd6194"
      },
      "outputs": [
        {
          "output_type": "stream",
          "name": "stderr",
          "text": [
            "/usr/local/lib/python3.7/dist-packages/sklearn/utils/deprecation.py:87: FutureWarning: Function get_feature_names is deprecated; get_feature_names is deprecated in 1.0 and will be removed in 1.2. Please use get_feature_names_out instead.\n",
            "  warnings.warn(msg, category=FutureWarning)\n"
          ]
        }
      ],
      "source": [
        "X = encode_cats(categoricals, numericals)"
      ]
    },
    {
      "cell_type": "markdown",
      "metadata": {
        "id": "Nsf3ccXFawg8"
      },
      "source": [
        "## Split the Data"
      ]
    },
    {
      "cell_type": "code",
      "execution_count": null,
      "metadata": {
        "id": "GMGxKygjawg8"
      },
      "outputs": [],
      "source": [
        "def train_test_val_split(X, y):\n",
        "    \"\"\"\n",
        "    Input: X --> array of features, y --> target array\n",
        "           set aside for testing.\n",
        "    Output: Features and target split into train, val and test sets. \n",
        "            Test size = 20%\n",
        "            Val size = 25%\n",
        "            Converted to numpy arrays.\n",
        "    \"\"\"\n",
        "    X, X_test, y, y_test = train_test_split(X, y, test_size=0.2, random_state=42)\n",
        "\n",
        "    # Split train/validate sets\n",
        "    X_train, X_val, y_train, y_val = train_test_split(X, y, test_size=0.25, random_state=42)\n",
        "\n",
        "    # Convert to numpy arrays to help with generate indeces below\n",
        "    X, y = np.array(X), np.array(y)\n",
        "\n",
        "    return X_train, X_val, X_test, y_train, y_val, y_test"
      ]
    },
    {
      "cell_type": "code",
      "execution_count": null,
      "metadata": {
        "id": "EGPxf0Ugawg8"
      },
      "outputs": [],
      "source": [
        "X_train, X_val, X_test, y_train, y_val, y_test = train_test_val_split(X, y)"
      ]
    },
    {
      "cell_type": "code",
      "execution_count": null,
      "metadata": {
        "id": "2fBh_yW0awhB"
      },
      "outputs": [],
      "source": [
        "def scale_data(X_train, X_val, X_test):\n",
        "    \"\"\"\n",
        "    Input: Features (numpy arrays)\n",
        "    Output: Scaled data\n",
        "    \"\"\"\n",
        "    scaler = StandardScaler()\n",
        "    X_train_scaled = scaler.fit_transform(X_train)\n",
        "    X_val_scaled = scaler.transform(X_val)\n",
        "    X_test_scaled = scaler.transform(X_test)\n",
        "\n",
        "    return X_train_scaled, X_val_scaled, X_test_scaled"
      ]
    },
    {
      "cell_type": "code",
      "execution_count": null,
      "metadata": {
        "id": "_sZkDQHxawhB"
      },
      "outputs": [],
      "source": [
        "X_train_scaled, X_val_scaled, X_test_scaled = scale_data(X_train, X_val, X_test)"
      ]
    },
    {
      "cell_type": "code",
      "execution_count": null,
      "metadata": {
        "id": "0483AW-TawhC"
      },
      "outputs": [],
      "source": [
        "def model_score(model_name, model, X_train_scaled, X_val_scaled,\n",
        "                X_test_scaled, y_train, y_val, y_test, test=False):\n",
        "    \"\"\"\n",
        "    Input: Transformed feature and target sets\n",
        "    Output: Validation scores. If test=True, includes test scores\n",
        "    \"\"\"\n",
        "    print('Calculating validation score...')\n",
        "\n",
        "    my_model = model\n",
        "    my_model.fit(X_train_scaled,y_train)\n",
        "    print(f'{model_name} accuracy score: {my_model.score(X_val_scaled,y_val):.4}\\n')\n",
        "\n",
        "    if test:\n",
        "        print(\"Calculating test score...\")\n",
        "        print(f'{model_name} accuracy score: {my_model.score(X_test_scaled,y_test):.4}\\n')\n",
        "\n",
        "    return my_model"
      ]
    },
    {
      "cell_type": "code",
      "execution_count": null,
      "metadata": {
        "colab": {
          "base_uri": "https://localhost:8080/"
        },
        "id": "lX4HXOtxawhC",
        "outputId": "487f4284-68df-4e10-8eaa-a0530bcf707f"
      },
      "outputs": [
        {
          "output_type": "stream",
          "name": "stdout",
          "text": [
            "Calculating validation score...\n",
            "KNN accuracy score: 0.7957\n",
            "\n",
            "Calculating validation score...\n",
            "LogReg accuracy score: 0.8148\n",
            "\n",
            "Calculating validation score...\n",
            "RF accuracy score: 0.8173\n",
            "\n",
            "Calculating validation score...\n",
            "XGBoost accuracy score: 0.8198\n",
            "\n",
            "Calculating validation score...\n",
            "SVM accuracy score: 0.8187\n",
            "\n"
          ]
        }
      ],
      "source": [
        "knn = model_score('KNN', KNeighborsClassifier(n_neighbors=5),\n",
        "                       X_train_scaled,X_val_scaled, X_test_scaled,\n",
        "                       y_train, y_val, y_test,test=False)\n",
        "\n",
        "lr = model_score('LogReg', LogisticRegression(penalty='none'),\n",
        "                       X_train_scaled,X_val_scaled, X_test_scaled,\n",
        "                       y_train, y_val, y_test,test=False)\n",
        "\n",
        "rf = model_score('RF', RandomForestClassifier(),\n",
        "                       X_train_scaled,X_val_scaled, X_test_scaled,\n",
        "                       y_train, y_val, y_test,test=False)\n",
        "        \n",
        "gbm = model_score('XGBoost', xgb.XGBClassifier(),\n",
        "                       X_train_scaled,X_val_scaled, X_test_scaled,\n",
        "                       y_train, y_val, y_test,test=False)\n",
        "\n",
        "svc = model_score('SVM', SVC(probability=True),\n",
        "                       X_train_scaled,X_val_scaled, X_test_scaled,\n",
        "                       y_train, y_val, y_test,test=False)"
      ]
    },
    {
      "cell_type": "markdown",
      "metadata": {
        "id": "tL2LYT51awhD"
      },
      "source": [
        "Support Vector Machine performs the best with an accuracy of 0.8193. However, we will move forward with Random Forest because it is less computationally expensive."
      ]
    },
    {
      "cell_type": "markdown",
      "metadata": {
        "id": "V7HN3creawhD"
      },
      "source": [
        "# Performance Metrics"
      ]
    },
    {
      "cell_type": "markdown",
      "metadata": {
        "id": "J18LplA-awhD"
      },
      "source": [
        "## Confusion Matrix"
      ]
    },
    {
      "cell_type": "code",
      "execution_count": null,
      "metadata": {
        "colab": {
          "base_uri": "https://localhost:8080/",
          "height": 415
        },
        "id": "h5R7t641awhD",
        "outputId": "650bc5e9-e3f5-4961-a302-7be82ba1e8c7"
      },
      "outputs": [
        {
          "output_type": "stream",
          "name": "stderr",
          "text": [
            "/usr/local/lib/python3.7/dist-packages/sklearn/utils/deprecation.py:87: FutureWarning: Function plot_confusion_matrix is deprecated; Function `plot_confusion_matrix` is deprecated in 1.0 and will be removed in 1.2. Use one of the class methods: ConfusionMatrixDisplay.from_predictions or ConfusionMatrixDisplay.from_estimator.\n",
            "  warnings.warn(msg, category=FutureWarning)\n"
          ]
        },
        {
          "output_type": "display_data",
          "data": {
            "image/png": "[encoded data removed]",
            "text/plain": [
              "<Figure size 432x432 with 2 Axes>"
            ]
          },
          "metadata": {
            "needs_background": "light"
          }
        }
      ],
      "source": [
        "fig, ax = plt.subplots(figsize=(6,6))\n",
        "plot_confusion_matrix(rf, X_test_scaled, y_test, ax=ax);"
      ]
    },
    {
      "cell_type": "markdown",
      "metadata": {
        "id": "2GfA56xoawhE"
      },
      "source": [
        "## Classification Report"
      ]
    },
    {
      "cell_type": "code",
      "execution_count": null,
      "metadata": {
        "colab": {
          "base_uri": "https://localhost:8080/"
        },
        "id": "bZC2KiCsawhE",
        "outputId": "8569954c-9afe-4f7c-d47e-c09500cff2bb"
      },
      "outputs": [
        {
          "output_type": "stream",
          "name": "stdout",
          "text": [
            "              precision    recall  f1-score   support\n",
            "\n",
            "           0       0.84      0.95      0.89      4687\n",
            "           1       0.65      0.36      0.47      1313\n",
            "\n",
            "    accuracy                           0.82      6000\n",
            "   macro avg       0.75      0.66      0.68      6000\n",
            "weighted avg       0.80      0.82      0.80      6000\n",
            "\n"
          ]
        }
      ],
      "source": [
        "y_preds_rf = rf.predict(X_test_scaled)\n",
        "print(classification_report(y_test, y_preds_rf))"
      ]
    },
    {
      "cell_type": "markdown",
      "metadata": {
        "id": "55Nb6ULwawhE"
      },
      "source": [
        "# Optimization"
      ]
    },
    {
      "cell_type": "markdown",
      "metadata": {
        "id": "dqF-P92-awhG"
      },
      "source": [
        "What are we optimizing for? In this case, we are optimizing recall. Recall is a performance metric which attempts to answer the question: What proportion of actual positives was identified correctly? Mathematically, the formula is\n",
        "\n",
        "$RecallScore = \\frac{TP}{TP + FN}$\n",
        "\n",
        "TP = True Positive, or a correctly predicted default\n",
        "\n",
        "FN = False Negative, or an incorrectly predicted non-default\n",
        "\n",
        "Ideally, we do not want to miss any potentially defaults to fall through the cracks, so our optimal model will minimize False Negatives (optimize Recall Score)"
      ]
    },
    {
      "cell_type": "markdown",
      "metadata": {
        "id": "rsAIafqoawhH"
      },
      "source": [
        "# Feature Selection\n",
        "There are many feature selection scores one could perform to determine\n",
        "which features are most useful. For this case, we will use Feature Importance.\n",
        "\n",
        "Feature Importance is the process of assigning scores to each feature, depending on how useful it is in predicting the target variable"
      ]
    },
    {
      "cell_type": "code",
      "execution_count": null,
      "metadata": {
        "colab": {
          "base_uri": "https://localhost:8080/",
          "height": 335
        },
        "id": "YqbObsf3awhI",
        "outputId": "cc8ed195-9882-4f46-e525-aad9908414cd"
      },
      "outputs": [
        {
          "output_type": "display_data",
          "data": {
            "image/png": "[encoded data removed]",
            "text/plain": [
              "<Figure size 504x288 with 1 Axes>"
            ]
          },
          "metadata": {
            "needs_background": "light"
          }
        }
      ],
      "source": [
        "temp = pd.DataFrame({'Feature': list(X.columns), 'Feature Importance': rf.feature_importances_})\n",
        "temp = temp.sort_values(by=\"Feature Importance\", ascending=False)\n",
        "\n",
        "plt.figure(figsize=(7,4))\n",
        "plt.title('Feature Importance', fontsize=14)\n",
        "s=sns.barplot(x='Feature', y='Feature Importance', data=temp)\n",
        "s.set_xticklabels(s.get_xticklabels(), rotation=90)\n",
        "plt.show();"
      ]
    },
    {
      "cell_type": "markdown",
      "metadata": {
        "id": "lvy3qNBHawhJ"
      },
      "source": [
        "The top features are shown in the chart. It's interesting how 'age' is the second most important feature. Let's keep all of them except the last 6, the categorical variables."
      ]
    },
    {
      "cell_type": "code",
      "execution_count": null,
      "metadata": {
        "id": "RLZTemX_awhJ"
      },
      "outputs": [],
      "source": [
        "# Update dataframe\n",
        "X = X.iloc[:, np.argsort(rf.feature_importances_,)[7:]]"
      ]
    },
    {
      "cell_type": "markdown",
      "metadata": {
        "id": "Ux6aOZ3xawhK"
      },
      "source": [
        "# Hyperparamter Tuning\n",
        "Let's search for optimal parameters for our model"
      ]
    },
    {
      "cell_type": "code",
      "execution_count": null,
      "metadata": {
        "id": "k6L-gUoWawhK"
      },
      "outputs": [],
      "source": [
        "# Define parameter values that should be searched\n",
        "bootstrap = [True, False]\n",
        "max_features = ['auto','sqrt']\n",
        "min_samples_leaf = [1,2,4]\n",
        "min_samples_split = [2,5,10]\n",
        "n_estimators = [50,100,150,200]\n",
        "max_depth = [4,6,10,12, None]"
      ]
    },
    {
      "cell_type": "code",
      "execution_count": null,
      "metadata": {
        "colab": {
          "base_uri": "https://localhost:8080/"
        },
        "id": "ynZerxP-awhK",
        "outputId": "da53da48-eef2-42f7-c3ea-1bd22784b7a3"
      },
      "outputs": [
        {
          "output_type": "stream",
          "name": "stdout",
          "text": [
            "{'n_estimators': [50, 100, 150, 200], 'max_depth': [4, 6, 10, 12, None], 'bootstrap': [True, False], 'min_samples_leaf': [1, 2, 4], 'min_samples_split': [2, 5, 10], 'max_features': ['auto', 'sqrt']}\n"
          ]
        }
      ],
      "source": [
        "# Specify \"parameter distributions\" rather than a \"parameter grid\"\n",
        "\n",
        "param_dist = dict(n_estimators=n_estimators, max_depth = max_depth, bootstrap=bootstrap,\n",
        "                  min_samples_leaf=min_samples_leaf,min_samples_split=min_samples_split,\n",
        "                  max_features=max_features)\n",
        "print(param_dist)"
      ]
    },
    {
      "cell_type": "code",
      "execution_count": null,
      "metadata": {
        "colab": {
          "base_uri": "https://localhost:8080/"
        },
        "id": "e3SpLqAJawhL",
        "outputId": "b00bf817-1a17-4d05-82b4-b439e20c7dcb"
      },
      "outputs": [
        {
          "output_type": "execute_result",
          "data": {
            "text/plain": [
              "RandomizedSearchCV(cv=10, estimator=RandomForestClassifier(),\n",
              "                   param_distributions={'bootstrap': [True, False],\n",
              "                                        'max_depth': [4, 6, 10, 12, None],\n",
              "                                        'max_features': ['auto', 'sqrt'],\n",
              "                                        'min_samples_leaf': [1, 2, 4],\n",
              "                                        'min_samples_split': [2, 5, 10],\n",
              "                                        'n_estimators': [50, 100, 150, 200]},\n",
              "                   random_state=42, scoring='accuracy')"
            ]
          },
          "metadata": {},
          "execution_count": 66
        }
      ],
      "source": [
        "# n_iter controls the number of searches\n",
        "\n",
        "rand = RandomizedSearchCV(RandomForestClassifier(), param_dist, cv=10, scoring='accuracy',\n",
        "                          n_iter=10, random_state=42)\n",
        "rand.fit(X_train_scaled, y_train)\n",
        "\n",
        "# Uncomment line below to print\n",
        "# rand.cv_results_"
      ]
    },
    {
      "cell_type": "code",
      "execution_count": null,
      "metadata": {
        "id": "L5qBkrl5awhL"
      },
      "outputs": [],
      "source": [
        "def get_best_model(model_grid):\n",
        "    best_k = model_grid.cv_results_['rank_test_score'][0]\n",
        "    print (f\"Mean score: {model_grid.cv_results_['mean_test_score'][best_k]}\",\n",
        "           f\"Std: {model_grid.cv_results_['std_test_score'][best_k]}\")"
      ]
    },
    {
      "cell_type": "code",
      "execution_count": null,
      "metadata": {
        "colab": {
          "base_uri": "https://localhost:8080/"
        },
        "id": "mE0HYs6PawhL",
        "outputId": "028a2006-cd31-4d52-808f-12a63bda0197"
      },
      "outputs": [
        {
          "output_type": "stream",
          "name": "stdout",
          "text": [
            "0.8203888888888888\n",
            "{'n_estimators': 100, 'min_samples_split': 2, 'min_samples_leaf': 1, 'max_features': 'auto', 'max_depth': 10, 'bootstrap': True}\n",
            "Mean score: 0.8191111111111111 Std: 0.008404143598822522\n"
          ]
        }
      ],
      "source": [
        "# Examine the best model\n",
        "print(rand.best_score_)\n",
        "print(rand.best_params_)\n",
        "get_best_model(rand)"
      ]
    },
    {
      "cell_type": "markdown",
      "metadata": {
        "id": "uuc896SyawhM"
      },
      "source": [
        "We found optimal parameters, not a huge improvement, but anything helps"
      ]
    },
    {
      "cell_type": "markdown",
      "metadata": {
        "id": "rrNJMdHLawhM"
      },
      "source": [
        "# Class Imbalance"
      ]
    },
    {
      "cell_type": "markdown",
      "metadata": {
        "id": "Qs35FffGawhM"
      },
      "source": [
        "## Under/Oversampling"
      ]
    },
    {
      "cell_type": "code",
      "execution_count": null,
      "metadata": {
        "id": "Oi_-NypPawhN"
      },
      "outputs": [],
      "source": [
        "def over_under_sample(X_train, y_train, Under=True, Over=True):\n",
        "    \"\"\"\n",
        "    Input: training features and target\n",
        "    Output: under/oversampled datasets\n",
        "    \"\"\"\n",
        "    rus = RandomUnderSampler(random_state=42)\n",
        "    ros = RandomOverSampler(random_state=42)\n",
        "\n",
        "    if Under and Over:\n",
        "        X_train_under, y_train_under = rus.fit_resample(X_train, y_train)\n",
        "        X_train_over, y_train_over = ros.fit_resample(X_train, y_train)\n",
        "        return X_train_under, y_train_under, X_train_over, y_train_over\n",
        "    elif Under:\n",
        "        X_train_under, y_train_under = rus.fit_resample(X_train, y_train)\n",
        "        return X_train_under, y_train_under\n",
        "    else:\n",
        "        X_train_over, y_train_over = ros.fit_resample(X_train, y_train)\n",
        "        return X_train_over, y_train_over"
      ]
    },
    {
      "cell_type": "code",
      "execution_count": null,
      "metadata": {
        "id": "zlkw0fPuawhN"
      },
      "outputs": [],
      "source": [
        "# Split data\n",
        "X_train, X_val, X_test, y_train, y_val, y_test = train_test_val_split(X, y)\n",
        "\n",
        "# Random under/over sampling\n",
        "X_train_under, y_train_under, X_train_over, y_train_over = over_under_sample(X_train, y_train, Under=True, Over=True)\n"
      ]
    },
    {
      "cell_type": "markdown",
      "metadata": {
        "id": "n7RIh8WqawhN"
      },
      "source": [
        "## Undersampling"
      ]
    },
    {
      "cell_type": "code",
      "execution_count": null,
      "metadata": {
        "colab": {
          "base_uri": "https://localhost:8080/"
        },
        "id": "gtPj4q09awhO",
        "outputId": "297ee9d7-f33e-41fc-92b7-9235d2a60fa7"
      },
      "outputs": [
        {
          "output_type": "stream",
          "name": "stdout",
          "text": [
            "Calculating validation score...\n",
            "RF accuracy score: 0.7533\n",
            "\n"
          ]
        }
      ],
      "source": [
        "# Scale\n",
        "X_train_scaled_under, X_val_scaled, X_test_scaled = scale_data(X_train_under, X_val, X_test)\n",
        "\n",
        "# Score\n",
        "rf_under = model_score('RF', RandomForestClassifier(**rand.best_params_),\n",
        "                 X_train_scaled_under, X_val_scaled, X_test_scaled,\n",
        "                 y_train_under, y_val, y_test, test=False)"
      ]
    },
    {
      "cell_type": "code",
      "execution_count": null,
      "metadata": {
        "colab": {
          "base_uri": "https://localhost:8080/"
        },
        "id": "CocjlSA8awhO",
        "outputId": "5c4249d8-afbf-48d4-dde6-f952803b6e87"
      },
      "outputs": [
        {
          "output_type": "stream",
          "name": "stdout",
          "text": [
            "              precision    recall  f1-score   support\n",
            "\n",
            "           0       0.88      0.78      0.83      4687\n",
            "           1       0.44      0.62      0.52      1313\n",
            "\n",
            "    accuracy                           0.74      6000\n",
            "   macro avg       0.66      0.70      0.67      6000\n",
            "weighted avg       0.78      0.74      0.76      6000\n",
            "\n"
          ]
        }
      ],
      "source": [
        "y_preds = rf_under.predict(X_test_scaled)\n",
        "print(classification_report(y_test, y_preds))"
      ]
    },
    {
      "cell_type": "markdown",
      "metadata": {
        "id": "xOsT-hKwawhO"
      },
      "source": [
        "## Oversampling"
      ]
    },
    {
      "cell_type": "code",
      "execution_count": null,
      "metadata": {
        "colab": {
          "base_uri": "https://localhost:8080/"
        },
        "id": "pDrvVmleawhP",
        "outputId": "2338f6c8-a4a4-4821-90df-2f9d024eb0b3"
      },
      "outputs": [
        {
          "output_type": "stream",
          "name": "stdout",
          "text": [
            "Calculating validation score...\n",
            "RF accuracy score: 0.7872\n",
            "\n"
          ]
        }
      ],
      "source": [
        "# Scale\n",
        "X_train_scaled_over, X_val_scaled, X_test_scaled = scale_data(X_train_over, X_val, X_test)\n",
        "\n",
        "# Score\n",
        "rf_over = model_score('RF', RandomForestClassifier(**rand.best_params_),\n",
        "                 X_train_scaled_over, X_val_scaled, X_test_scaled,\n",
        "                 y_train_over, y_val, y_test, test=False)"
      ]
    },
    {
      "cell_type": "code",
      "execution_count": null,
      "metadata": {
        "colab": {
          "base_uri": "https://localhost:8080/"
        },
        "id": "6pow_ZcFawhP",
        "outputId": "b2529ecd-fa86-4442-cee9-d4433d737b4d"
      },
      "outputs": [
        {
          "output_type": "stream",
          "name": "stdout",
          "text": [
            "              precision    recall  f1-score   support\n",
            "\n",
            "           0       0.87      0.84      0.86      4687\n",
            "           1       0.50      0.56      0.53      1313\n",
            "\n",
            "    accuracy                           0.78      6000\n",
            "   macro avg       0.69      0.70      0.69      6000\n",
            "weighted avg       0.79      0.78      0.79      6000\n",
            "\n"
          ]
        }
      ],
      "source": [
        "# Classification report\n",
        "y_preds = rf_over.predict(X_test_scaled)\n",
        "print(classification_report(y_test, y_preds))"
      ]
    },
    {
      "cell_type": "markdown",
      "metadata": {
        "id": "EybdMyaOawhQ"
      },
      "source": [
        "Overall accuracy decreased by about 0.04, and recall decreased by about 0.10. However, precision increased by 0.18. That may be good or bad, depending on what costs more. Is it more costly to incorrectly predict true defaults, or is it more costly to incorrectly identifythose who will not default? That is up to management to decide."
      ]
    },
    {
      "cell_type": "markdown",
      "metadata": {
        "id": "ckL7xF3WawhQ"
      },
      "source": [
        "# Analyze Results"
      ]
    },
    {
      "cell_type": "markdown",
      "metadata": {
        "id": "5DWTcEfPawhQ"
      },
      "source": [
        "## Final Model"
      ]
    },
    {
      "cell_type": "code",
      "execution_count": null,
      "metadata": {
        "colab": {
          "base_uri": "https://localhost:8080/",
          "height": 217
        },
        "id": "qChnUCSnawhR",
        "outputId": "dfc6e5d1-24f6-4e08-a8b4-9366365cca60"
      },
      "outputs": [
        {
          "output_type": "stream",
          "name": "stdout",
          "text": [
            "Random Forest with the following parameters:\n",
            "\n"
          ]
        },
        {
          "output_type": "error",
          "ename": "NameError",
          "evalue": "ignored",
          "traceback": [
            "\u001b[0;31m---------------------------------------------------------------------------\u001b[0m",
            "\u001b[0;31mNameError\u001b[0m                                 Traceback (most recent call last)",
            "\u001b[0;32m<ipython-input-2-583b883bb0d6>\u001b[0m in \u001b[0;36m<module>\u001b[0;34m()\u001b[0m\n\u001b[1;32m      1\u001b[0m \u001b[0mprint\u001b[0m\u001b[0;34m(\u001b[0m\u001b[0;34m\"Random Forest with the following parameters:\\n\"\u001b[0m\u001b[0;34m)\u001b[0m\u001b[0;34m\u001b[0m\u001b[0;34m\u001b[0m\u001b[0m\n\u001b[0;32m----> 2\u001b[0;31m \u001b[0mprint\u001b[0m\u001b[0;34m(\u001b[0m\u001b[0mrand\u001b[0m\u001b[0;34m.\u001b[0m\u001b[0mbest_params_\u001b[0m\u001b[0;34m)\u001b[0m\u001b[0;34m\u001b[0m\u001b[0;34m\u001b[0m\u001b[0m\n\u001b[0m",
            "\u001b[0;31mNameError\u001b[0m: name 'rand' is not defined"
          ]
        }
      ],
      "source": [
        "print(\"Random Forest with the following parameters:\\n\")\n",
        "print(rand.best_params_)"
      ]
    },
    {
      "cell_type": "markdown",
      "metadata": {
        "id": "Dfog--tgawhR"
      },
      "source": [
        "Sometimes the best model is the simplest. The model with minimal manipulation yielded the highest recall score of 0.95. After feature selection and hyperparameter tuning, recall decreased to 0.79.\n",
        "\n",
        "Let's check for overfitting. Overfitting means the model is strong at predicting the data it was trained, but weak at generalizing to unseen data. Lets test the model on never-before-seen data points and see how it performs"
      ]
    },
    {
      "cell_type": "markdown",
      "metadata": {
        "id": "aPzlzKgCawhR"
      },
      "source": [
        "## Check for Overfitting"
      ]
    },
    {
      "cell_type": "code",
      "execution_count": null,
      "metadata": {
        "id": "0JiA2Kd9awhS"
      },
      "outputs": [],
      "source": [
        "# features and target\n",
        "X = df.loc[:,'limit_bal':'Apr_Pmt']\n",
        "y = df['Default']\n",
        "\n",
        "# encode categorical\n",
        "\n",
        "X = encode_cats(categoricals, numericals)\n",
        "\n",
        "# Split data\n",
        "X_train, X_val, X_test, y_train, y_val, y_test = train_test_val_split(X, y)\n",
        "\n",
        "# Scale\n",
        "X_train_scaled, X_val_scaled, X_test_scaled = scale_data(X_train, X_val, X_test)\n",
        "\n",
        "# Model score\n",
        "rf = model_score('RF', RandomForestClassifier(**rand.best_params_),\n",
        "                 X_train_scaled, X_val_scaled, X_test_scaled,\n",
        "                 y_train, y_val, y_test, test=True)"
      ]
    },
    {
      "cell_type": "markdown",
      "metadata": {
        "id": "kNOmJoVeawhS"
      },
      "source": [
        "Validation score and test score are similar so there is no sign overfitting"
      ]
    },
    {
      "cell_type": "markdown",
      "metadata": {
        "id": "hauvC-J5awhS"
      },
      "source": [
        "## F-Beta Score"
      ]
    },
    {
      "cell_type": "code",
      "execution_count": null,
      "metadata": {
        "id": "cuPdvxJ-awhT"
      },
      "outputs": [],
      "source": [
        "print(f\"f-beta score: {fbeta_score(y_test, rf_over.predict(X_test_scaled), average='weighted', beta=5.0):.4}\")"
      ]
    },
    {
      "cell_type": "markdown",
      "metadata": {
        "id": "PQcOzculawhT"
      },
      "source": [
        "## ROC Curve"
      ]
    },
    {
      "cell_type": "code",
      "execution_count": null,
      "metadata": {
        "id": "Ft9lea8KawhT"
      },
      "outputs": [],
      "source": [
        "fpr, tpr, thresholds = roc_curve(y_test, rf_over.predict_proba(X_test_scaled)[:,1])\n",
        "\n",
        "plt.plot(fpr, tpr,lw=2)\n",
        "plt.plot([0,1],[0,1],c='violet',ls='--')\n",
        "plt.xlim([-0.05,1.05])\n",
        "plt.ylim([-0.05,1.05])\n",
        "\n",
        "\n",
        "plt.xlabel('False positive rate')\n",
        "plt.ylabel('True positive rate')\n",
        "plt.title('ROC curve');\n",
        "print(\"ROC AUC score = \", roc_auc_score(y_test, rf_over.predict_proba(X_test_scaled)[:,1]))"
      ]
    }
  ],
  "metadata": {
    "kernelspec": {
      "display_name": "Python 3 (ipykernel)",
      "language": "python",
      "name": "python3"
    },
    "language_info": {
      "codemirror_mode": {
        "name": "ipython",
        "version": 3
      },
      "file_extension": ".py",
      "mimetype": "text/x-python",
      "name": "python",
      "nbconvert_exporter": "python",
      "pygments_lexer": "ipython3",
      "version": "3.10.0"
    },
    "colab": {
      "name": "project-credit-card.ipynb",
      "provenance": [],
      "collapsed_sections": [
        "-7DCQuU9awfq",
        "GtBr-St2awg6",
        "iEkMg-D6awg6",
        "Nsf3ccXFawg8",
        "J18LplA-awhD",
        "2GfA56xoawhE",
        "Qs35FffGawhM",
        "n7RIh8WqawhN",
        "xOsT-hKwawhO",
        "5DWTcEfPawhQ",
        "aPzlzKgCawhR",
        "hauvC-J5awhS",
        "PQcOzculawhT"
      ]
    }
  },
  "nbformat": 4,
  "nbformat_minor": 0
}